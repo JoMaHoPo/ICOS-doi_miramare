{
 "cells": [
  {
   "cell_type": "code",
   "execution_count": 1,
   "id": "6ccdda00",
   "metadata": {},
   "outputs": [
    {
     "ename": "SyntaxError",
     "evalue": "invalid syntax (1346529572.py, line 1)",
     "output_type": "error",
     "traceback": [
      "\u001b[0;36m  Input \u001b[0;32mIn [1]\u001b[0;36m\u001b[0m\n\u001b[0;31m    pip install xarray\u001b[0m\n\u001b[0m        ^\u001b[0m\n\u001b[0;31mSyntaxError\u001b[0m\u001b[0;31m:\u001b[0m invalid syntax\n"
     ]
    }
   ],
   "source": [
    "pip install xarray\n",
    "\n",
    "import xarray as xr\n"
   ]
  },
  {
   "cell_type": "code",
   "execution_count": null,
   "id": "44a993a7",
   "metadata": {},
   "outputs": [],
   "source": [
    "dspath= 'INSERT/YOUR/PATH/withdatasetname.nc'"
   ]
  },
  {
   "cell_type": "code",
   "execution_count": null,
   "id": "4c7e803e",
   "metadata": {},
   "outputs": [],
   "source": [
    "ds=xr.open_dataset(dspath)\n"
   ]
  },
  {
   "cell_type": "code",
   "execution_count": null,
   "id": "4446e9a1",
   "metadata": {},
   "outputs": [],
   "source": [
    "#with that you can check all the info contained in the dataset, please check the metadata and let me know\n",
    "#if there is anything else that I should do.\n",
    "\n",
    "ds\n"
   ]
  }
 ],
 "metadata": {
  "kernelspec": {
   "display_name": "Python 3 (ipykernel)",
   "language": "python",
   "name": "python3"
  },
  "language_info": {
   "codemirror_mode": {
    "name": "ipython",
    "version": 3
   },
   "file_extension": ".py",
   "mimetype": "text/x-python",
   "name": "python",
   "nbconvert_exporter": "python",
   "pygments_lexer": "ipython3",
   "version": "3.9.12"
  }
 },
 "nbformat": 4,
 "nbformat_minor": 5
}
